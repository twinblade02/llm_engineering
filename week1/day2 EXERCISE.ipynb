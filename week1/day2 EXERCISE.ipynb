{
 "cells": [
  {
   "cell_type": "markdown",
   "id": "d15d8294-3328-4e07-ad16-8a03e9bbfdb9",
   "metadata": {},
   "source": [
    "# Welcome to your first assignment!\n",
    "\n",
    "Instructions are below. Please give this a try, and look in the solutions folder if you get stuck (or feel free to ask me!)"
   ]
  },
  {
   "cell_type": "markdown",
   "id": "ada885d9-4d42-4d9b-97f0-74fbbbfe93a9",
   "metadata": {},
   "source": [
    "<table style=\"margin: 0; text-align: left;\">\n",
    "    <tr>\n",
    "        <td style=\"width: 150px; height: 150px; vertical-align: middle;\">\n",
    "            <img src=\"../resources.jpg\" width=\"150\" height=\"150\" style=\"display: block;\" />\n",
    "        </td>\n",
    "        <td>\n",
    "            <h2 style=\"color:#f71;\">Just before we get to the assignment --</h2>\n",
    "            <span style=\"color:#f71;\">I thought I'd take a second to point you at this page of useful resources for the course. This includes links to all the slides.<br/>\n",
    "            <a href=\"https://edwarddonner.com/2024/11/13/llm-engineering-resources/\">https://edwarddonner.com/2024/11/13/llm-engineering-resources/</a><br/>\n",
    "            Please keep this bookmarked, and I'll continue to add more useful links there over time.\n",
    "            </span>\n",
    "        </td>\n",
    "    </tr>\n",
    "</table>"
   ]
  },
  {
   "cell_type": "markdown",
   "id": "6e9fa1fc-eac5-4d1d-9be4-541b3f2b3458",
   "metadata": {},
   "source": [
    "# HOMEWORK EXERCISE ASSIGNMENT\n",
    "\n",
    "Upgrade the day 1 project to summarize a webpage to use an Open Source model running locally via Ollama rather than OpenAI\n",
    "\n",
    "You'll be able to use this technique for all subsequent projects if you'd prefer not to use paid APIs.\n",
    "\n",
    "**Benefits:**\n",
    "1. No API charges - open-source\n",
    "2. Data doesn't leave your box\n",
    "\n",
    "**Disadvantages:**\n",
    "1. Significantly less power than Frontier Model\n",
    "\n",
    "## Recap on installation of Ollama\n",
    "\n",
    "Simply visit [ollama.com](https://ollama.com) and install!\n",
    "\n",
    "Once complete, the ollama server should already be running locally.  \n",
    "If you visit:  \n",
    "[http://localhost:11434/](http://localhost:11434/)\n",
    "\n",
    "You should see the message `Ollama is running`.  \n",
    "\n",
    "If not, bring up a new Terminal (Mac) or Powershell (Windows) and enter `ollama serve`  \n",
    "And in another Terminal (Mac) or Powershell (Windows), enter `ollama pull llama3.2`  \n",
    "Then try [http://localhost:11434/](http://localhost:11434/) again.\n",
    "\n",
    "If Ollama is slow on your machine, try using `llama3.2:1b` as an alternative. Run `ollama pull llama3.2:1b` from a Terminal or Powershell, and change the code below from `MODEL = \"llama3.2\"` to `MODEL = \"llama3.2:1b\"`"
   ]
  },
  {
   "cell_type": "code",
   "execution_count": 1,
   "id": "4e2a9393-7767-488e-a8bf-27c12dca35bd",
   "metadata": {},
   "outputs": [],
   "source": [
    "# imports\n",
    "\n",
    "import requests\n",
    "from bs4 import BeautifulSoup\n",
    "from IPython.display import Markdown, display"
   ]
  },
  {
   "cell_type": "code",
   "execution_count": 2,
   "id": "29ddd15d-a3c5-4f4e-a678-873f56162724",
   "metadata": {},
   "outputs": [],
   "source": [
    "# Constants\n",
    "\n",
    "OLLAMA_API = \"http://localhost:11434/api/chat\"\n",
    "HEADERS = {\"Content-Type\": \"application/json\"}\n",
    "MODEL = \"llama3.1:latest\""
   ]
  },
  {
   "cell_type": "code",
   "execution_count": 3,
   "id": "dac0a679-599c-441f-9bf2-ddc73d35b940",
   "metadata": {},
   "outputs": [],
   "source": [
    "# Create a messages list using the same format that we used for OpenAI\n",
    "\n",
    "messages = [\n",
    "    {\"role\": \"user\", \"content\": \"Describe some of the business applications of Generative AI\"}\n",
    "]"
   ]
  },
  {
   "cell_type": "code",
   "execution_count": 4,
   "id": "7bb9c624-14f0-4945-a719-8ddb64f66f47",
   "metadata": {},
   "outputs": [],
   "source": [
    "payload = {\n",
    "        \"model\": MODEL,\n",
    "        \"messages\": messages,\n",
    "        \"stream\": False\n",
    "    }"
   ]
  },
  {
   "cell_type": "code",
   "execution_count": 5,
   "id": "479ff514-e8bd-4985-a572-2ea28bb4fa40",
   "metadata": {},
   "outputs": [
    {
     "name": "stdout",
     "output_type": "stream",
     "text": [
      "^C\n"
     ]
    }
   ],
   "source": [
    "# Let's just make sure the model is loaded\n",
    "## Don't use this - just load from Powershell\n",
    "\n",
    "#!ollama run llama3.1:latest"
   ]
  },
  {
   "cell_type": "code",
   "execution_count": 6,
   "id": "42b9f644-522d-4e05-a691-56e7658c0ea9",
   "metadata": {},
   "outputs": [
    {
     "name": "stdout",
     "output_type": "stream",
     "text": [
      "Generative AI has numerous business applications across various industries, including content creation, customer service, marketing, and more. Here are some examples:\n",
      "\n",
      "1. **Content Generation**: Generative AI can be used to generate high-quality content such as articles, product descriptions, social media posts, and even entire websites. This can save businesses time and resources that would have been spent on manual content creation.\n",
      "2. **Product Design**: Generative AI can help designers create new product designs by generating multiple iterations based on input parameters. For example, in the fashion industry, generative AI can generate new clothing designs or modify existing ones.\n",
      "3. **Customer Service Chatbots**: Generative AI-powered chatbots can understand user queries and respond with relevant answers. They can even engage in natural-sounding conversations, helping to improve customer experience and reduce support costs.\n",
      "4. **Personalized Recommendations**: Generative AI can analyze customer behavior and generate personalized product recommendations for e-commerce platforms or streaming services.\n",
      "5. **Predictive Maintenance**: By analyzing sensor data from equipment and machinery, generative AI can predict when maintenance is required, reducing downtime and improving overall efficiency.\n",
      "6. **Language Translation**: Generative AI models like Google Translate's neural machine translation technology can quickly translate languages in real-time, breaking down language barriers for global businesses.\n",
      "7. **Image Generation**: Generative AI can create high-quality images from scratch, such as product images or even entire scenes, which can be used for marketing purposes or to enhance user experiences.\n",
      "8. **Marketing Copywriting**: Generative AI-powered copywriting tools can generate engaging marketing copy, including social media posts, ads, and product descriptions.\n",
      "9. **Data Augmentation**: Generative AI can create synthetic data that mimics real-world data, helping businesses with data augmentation for machine learning model training.\n",
      "10. **Automated Reporting**: Generative AI can automatically generate reports based on input data, saving time and reducing the risk of errors in data analysis.\n",
      "\n",
      "Industry-specific applications:\n",
      "\n",
      "* **Healthcare:** Generative AI can be used to analyze medical images (e.g., CT scans), predict patient outcomes, or even design personalized treatments.\n",
      "* **Finance:** Generative AI can create synthetic financial data, detect anomalies in trading patterns, or generate investment portfolios.\n",
      "* **Retail:** Generative AI can optimize supply chain logistics, recommend products based on customer behavior, or generate personalized product bundles.\n",
      "* **Education:** Generative AI can create customized learning materials, generate adaptive assessments, or even develop virtual teaching assistants.\n",
      "\n",
      "These are just a few examples of the many business applications of generative AI. As the technology continues to evolve, we can expect even more innovative use cases across various industries.\n"
     ]
    }
   ],
   "source": [
    "# If this doesn't work for any reason, try the 2 versions in the following cells\n",
    "# And double check the instructions in the 'Recap on installation of Ollama' at the top of this lab\n",
    "# And if none of that works - contact me!\n",
    "\n",
    "response = requests.post(OLLAMA_API, json=payload, headers=HEADERS)\n",
    "print(response.json()['message']['content'])"
   ]
  },
  {
   "cell_type": "markdown",
   "id": "6a021f13-d6a1-4b96-8e18-4eae49d876fe",
   "metadata": {},
   "source": [
    "# Introducing the ollama package\n",
    "\n",
    "And now we'll do the same thing, but using the elegant ollama python package instead of a direct HTTP call.\n",
    "\n",
    "Under the hood, it's making the same call as above to the ollama server running at localhost:11434"
   ]
  },
  {
   "cell_type": "code",
   "execution_count": null,
   "id": "7745b9c4-57dc-4867-9180-61fa5db55eb8",
   "metadata": {},
   "outputs": [],
   "source": [
    "import ollama\n",
    "\n",
    "response = ollama.chat(model=MODEL, messages=messages)\n",
    "print(response['message']['content'])"
   ]
  },
  {
   "cell_type": "markdown",
   "id": "a4704e10-f5fb-4c15-a935-f046c06fb13d",
   "metadata": {},
   "source": [
    "## Alternative approach - using OpenAI python library to connect to Ollama"
   ]
  },
  {
   "cell_type": "code",
   "execution_count": 9,
   "id": "23057e00-b6fc-4678-93a9-6b31cb704bff",
   "metadata": {},
   "outputs": [
    {
     "name": "stdout",
     "output_type": "stream",
     "text": [
      "Generative AI, a subfield of artificial intelligence that involves training algorithms to generate new content, has far-reaching implications for various industries. Here are several significant business applications across different sectors:\n",
      "\n",
      "1. **Content Generation**:\n",
      "   - **AI-Generated Content**: Companies can use generative models to automatically create blog posts, articles, product descriptions, or any form of text in large quantities.\n",
      "   - **Social Media and Influencer Marketing**: Generative AI can generate compelling social media content such as captions, images, videos. For example, it can personalize content for specific audiences based on their behavior and interests.\n",
      "\n",
      "2. **Recommendation Systems**:\n",
      "   - **Personalized Recommendations**: Based on a user's preferences, generative models can produce highly specific recommendations for products or experiences.\n",
      "   - **Hyper-Personalization**: Generative AI can generate completely new, one-of-a-kind experiences tailored to every individual, enhancing customer satisfaction and loyalty.\n",
      "\n",
      "3. **Creative Industries**:\n",
      "   - **Music Composition**: AI algorithms can compose original music pieces that are almost indistinguishable from those created by human composers. This has applications in film scores, video games, commercials, etc.\n",
      "   - **Film/Video Production**: Generative models can create detailed visual effects, motion graphics, or even entire scenes based on a writer's script.\n",
      "   - **Art and Design**: AI-generated art can assist artists in creating works more quickly, exploring different styles, and even producing new forms of art.\n",
      "\n",
      "4. **Business Operations**:\n",
      "   - **Data Annotation and Preprocessing**: Manual annotation duties can be significantly reduced by delegating tasks to generative models that can accurately annotate data with less variability.\n",
      "   - **Prediction and Forecasting**: Generative AI tools can model complex systems, predict outcomes, and forecast future trends in finance, marketing, logistics, and more.\n",
      "\n",
      "5. **Customer Service**:\n",
      "   - **Automated Customer Support**: Chatbots and virtual assistants powered by generative models can engage with customers, resolve issues, or schedule appointments.\n",
      "   - **Sentiment Analysis and Feedback Generation**: AI can analyze customer feedback, detect any emotional tone, and suggest empathetic responses to build brand trust.\n",
      "\n",
      "6. **Education and Human Resources**:\n",
      "   - **Personalized Learning Platforms**: Generative models can create learning paths tailored individually to the skills and knowledge gaps of students.\n",
      "   - **Virtual Interviews and Talent Recruitment**: AI-powered virtual assistants can conduct job interviews for initial screening, enhancing recruitment efficiency.\n",
      "\n",
      "These applications represent just a fraction of the business potential offered by generative AI. As the technology evolves, we can expect even more innovative solutions across various sectors to emerge, transforming industries and revolutionizing workflow processes.\n"
     ]
    }
   ],
   "source": [
    "# There's actually an alternative approach that some people might prefer\n",
    "# You can use the OpenAI client python library to call Ollama:\n",
    "\n",
    "from openai import OpenAI\n",
    "ollama_via_openai = OpenAI(base_url='http://localhost:11434/v1', api_key='ollama')\n",
    "\n",
    "response = ollama_via_openai.chat.completions.create(\n",
    "    model=MODEL,\n",
    "    messages=messages\n",
    ")\n",
    "\n",
    "print(response.choices[0].message.content)"
   ]
  },
  {
   "cell_type": "markdown",
   "id": "1622d9bb-5c68-4d4e-9ca4-b492c751f898",
   "metadata": {},
   "source": [
    "# NOW the exercise for you\n",
    "\n",
    "Take the code from day1 and incorporate it here, to build a website summarizer that uses Llama 3.2 running locally instead of OpenAI; use either of the above approaches."
   ]
  },
  {
   "cell_type": "code",
   "execution_count": 18,
   "id": "c83df48d-05b3-49f5-b902-416a888a4938",
   "metadata": {},
   "outputs": [],
   "source": [
    "headers = {\n",
    " \"User-Agent\": \"Mozilla/5.0 (Windows NT 10.0; Win64; x64) AppleWebKit/537.36 (KHTML, like Gecko) Chrome/117.0.0.0 Safari/537.36\"\n",
    "}\n",
    "\n",
    "class Website:\n",
    "\n",
    "    def __init__(self, url):\n",
    "        \"\"\"\n",
    "        Create this Website object from the given url using the BeautifulSoup library\n",
    "        \"\"\"\n",
    "        self.url = url\n",
    "        response = requests.get(url, headers=headers)\n",
    "        soup = BeautifulSoup(response.content, 'html.parser')\n",
    "        self.title = soup.title.string if soup.title else \"No title found\"\n",
    "        for irrelevant in soup.body([\"script\", \"style\", \"img\", \"input\"]):\n",
    "            irrelevant.decompose()\n",
    "        self.text = soup.body.get_text(separator=\"\\n\", strip=True)\n",
    "\n",
    "system_prompt = \"You are an assistant that analyzes the contents of a website \\\n",
    "and provides a short summary, ignoring text that might be navigation related. \\\n",
    "Respond in markdown.\"\n",
    "\n",
    "def user_prompt_for(website):\n",
    "    user_prompt = f\"You are looking at a website titled {website.title}\"\n",
    "    user_prompt += \"\\nThe contents of this website is as follows; \\\n",
    "                    please provide a short summary of this website in markdown. \\\n",
    "                    If it includes news or announcements, then summarize these too.\\n\\n\"\n",
    "    user_prompt += website.text\n",
    "    return user_prompt\n",
    "\n",
    "def messages_for(website):\n",
    "    return [\n",
    "        {\"role\": \"system\", \"content\": system_prompt},\n",
    "        {\"role\": \"user\", \"content\": user_prompt_for(website)}\n",
    "    ]\n",
    "\n",
    "def summarize(url):\n",
    "    website = Website(url)\n",
    "    response = ollama_via_openai.chat.completions.create(\n",
    "        model = MODEL,\n",
    "        messages = messages_for(website)\n",
    "    )\n",
    "    return response.choices[0].message.content\n",
    "\n",
    "def display_summary(url):\n",
    "    summary = summarize(url)\n",
    "    display(Markdown(summary))"
   ]
  },
  {
   "cell_type": "code",
   "execution_count": 19,
   "id": "b65747d8-03ba-4f68-9245-3c5dd2bba6e2",
   "metadata": {},
   "outputs": [
    {
     "data": {
      "text/markdown": [
       "This appears to be the CNN website, with a vast amount of content related to news, politics, entertainment, and personal interest articles. I'll summarize the main categories and some notable articles:\n",
       "\n",
       "**Main Categories:**\n",
       "\n",
       "1. **News**\n",
       "\t* World\n",
       "\t* US\n",
       "\t* Crime + Justice\n",
       "2. **Politics**\n",
       "\t* SCOTUS\n",
       "\t* Congress\n",
       "3. **Business**\n",
       "\t* Tech\n",
       "\t* Media\n",
       "4. **Entertainment**\n",
       "\t* Movies\n",
       "\t* Television\n",
       "\t* Celebrity\n",
       "5. **Style**\n",
       "\t* Arts\n",
       "\t* Design\n",
       "\t* Fashion\n",
       "6. **Travel**\n",
       "7. **Science**\n",
       "\t* Space\n",
       "\t* Life\n",
       "\n",
       "**Notable Articles:**\n",
       "\n",
       "1. \"Ditch the restrictive resolutions and set one of these 3 fun food ‘intentions’ instead\" by Jim Henkens\n",
       "2. \"Bird at center of worst one-species mortality event in modern history isn’t recovering\"\n",
       "3. \"2024: The year in pictures\" (photo gallery)\n",
       "4. \"How music is medicine for these Alzheimer’s patients and their loved ones\"\n",
       "\n",
       "**Other Sections:**\n",
       "\n",
       "1. **Live TV**: watch live CNN programming\n",
       "2. **Listen**: listen to CNN audio podcasts\n",
       "3. **Photos**: view galleries of images related to current news stories or topics\n",
       "4. **Videos**: view videos on various topics, including news, politics, and entertainment\n",
       "5. **Headlines**: access the latest news headlines from around the world\n",
       "\n",
       "Overall, the CNN website is a comprehensive source of news and information on various topics, with a focus on breaking news, in-depth analysis, and personal interest articles."
      ],
      "text/plain": [
       "<IPython.core.display.Markdown object>"
      ]
     },
     "metadata": {},
     "output_type": "display_data"
    }
   ],
   "source": [
    "display_summary(\"https://cnn.com\")"
   ]
  },
  {
   "cell_type": "code",
   "execution_count": null,
   "id": "cf5038b6-b15c-463a-abc8-ab8bc11775a1",
   "metadata": {},
   "outputs": [],
   "source": []
  }
 ],
 "metadata": {
  "kernelspec": {
   "display_name": "Python 3 (ipykernel)",
   "language": "python",
   "name": "python3"
  },
  "language_info": {
   "codemirror_mode": {
    "name": "ipython",
    "version": 3
   },
   "file_extension": ".py",
   "mimetype": "text/x-python",
   "name": "python",
   "nbconvert_exporter": "python",
   "pygments_lexer": "ipython3",
   "version": "3.11.11"
  }
 },
 "nbformat": 4,
 "nbformat_minor": 5
}

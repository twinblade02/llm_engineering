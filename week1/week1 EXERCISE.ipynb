{
 "cells": [
  {
   "cell_type": "markdown",
   "id": "fe12c203-e6a6-452c-a655-afb8a03a4ff5",
   "metadata": {},
   "source": [
    "# End of week 1 exercise\n",
    "\n",
    "To demonstrate your familiarity with OpenAI API, and also Ollama, build a tool that takes a technical question,  \n",
    "and responds with an explanation. This is a tool that you will be able to use yourself during the course!"
   ]
  },
  {
   "cell_type": "code",
   "execution_count": 2,
   "id": "c1070317-3ed9-4659-abe3-828943230e03",
   "metadata": {},
   "outputs": [],
   "source": [
    "# imports\n",
    "import os\n",
    "import requests\n",
    "import json\n",
    "from typing import List\n",
    "#from dotenv import load_dotenv\n",
    "from bs4 import BeautifulSoup\n",
    "from IPython.display import Markdown, display, update_display\n",
    "from openai import OpenAI"
   ]
  },
  {
   "cell_type": "code",
   "execution_count": 3,
   "id": "4a456906-915a-4bfd-bb9d-57e505c5093f",
   "metadata": {},
   "outputs": [],
   "source": [
    "# constants\n",
    "\n",
    "#MODEL_GPT = 'gpt-4o-mini'\n",
    "MODEL_LLAMA = 'llama3.1:latest'\n",
    "ollama_via_openai = OpenAI(base_url='http://localhost:11434/v1', api_key='ollama')"
   ]
  },
  {
   "cell_type": "code",
   "execution_count": 4,
   "id": "3f0d0137-52b0-47a8-81a8-11a90a010798",
   "metadata": {},
   "outputs": [],
   "source": [
    "# here is the question; type over this to ask something new\n",
    "\n",
    "question = \"\"\"\n",
    "Please explain what this code does and why:\n",
    "yield from {book.get(\"author\") for book in books if book.get(\"author\")}\n",
    "\"\"\""
   ]
  },
  {
   "cell_type": "code",
   "execution_count": 5,
   "id": "b3431625-af90-415a-9359-e4ccd86ae54f",
   "metadata": {},
   "outputs": [],
   "source": [
    "# additional constraints\n",
    "system_prompt = \"You are an expert tutor on data science, software engineering, and LLM Engineering that answers techincal questions on Python code.\"\n",
    "user_prompt = \"Give a detailed explanation of the following code: \" + question"
   ]
  },
  {
   "cell_type": "code",
   "execution_count": null,
   "id": "60ce7000-a4a5-4cce-a261-e75ef45063b4",
   "metadata": {},
   "outputs": [],
   "source": [
    "# Get gpt-4o-mini to answer, with streaming"
   ]
  },
  {
   "cell_type": "code",
   "execution_count": 8,
   "id": "8f7c8ea8-4082-4ad0-8751-3301adcf6538",
   "metadata": {},
   "outputs": [
    {
     "data": {
      "text/markdown": [
       "This line of code utilizes Python's generator expressions within a dictionary comprehension to filter a list of dictionaries (represented as `books`), retrieving only the values associated with keys that are present. The primary purpose is data extraction from a dataset containing books, extracting specifically the authors.\n",
       "\n",
       "Here's how it works in detail:\n",
       "\n",
       "1. **Dictionary Comprehension**:\n",
       "   - A dictionary comprehension is essentially an equivalent to the for loop but within square brackets and colon (`{...}`). It allows you to create new dictionaries by performing some operation on each element found in other iterables like lists, or in this case another dictionary.\n",
       "   - The expression inside it is `book.get(\"author\")`. This part fetches values from dictionaries `books`, extracting the authors of books. The `.get()` method helps avoid `KeyError` when a key does not exist; returning `None` if it doesn't.\n",
       "\n",
       "2. **Filtering Elements**:\n",
       "   - After fetching the value associated with the \"author\" key, the line includes `if book.get(\"author\")`. This indicates that this expression is further filtered by whether or not the fetched value (i.e., author names) exists—only non-empty ones are considered.\n",
       "   - Essentially, it's a filter that prevents empty strings from being added to the result.\n",
       "\n",
       "3. **Generator Expression Inside Dictionary Comprehension**:\n",
       "   - The entire comprehension `for book in books if book.get(\"author\") for b_author in (book.get(\"author\"),)}` forms what is called a generator expression on the right-hand side but it simplifies into `yield from {book.get(\"author\") for book in books if book.get(\"author\")}` by utilizing the syntax rules, particularly:\n",
       "     - In **Python 3.5+**, you can use an arbitrary iterable expression inside another iteration structure as long as you use it within a dictionary or set comprehension.\n",
       "     - On account of `yield from` statement to produce generators when dictionaries are involved with comprehensions. The entire right part needs to match this pattern by being a generator expression that produces the keys-value pairs of the resulting dict.\n",
       "\n",
       "4. **Purpose**:\n",
       "   - This code snippet seems designed for data extraction in a more sophisticated form where it needs filtering and iteration through books in an iterable form (`books`) rather than sequential iteration through all `book` elements. For this, the **Dict Comprehension** is used, but the complexity increases when handling conditions or operations inside them.\n",
       "\n",
       "python\n",
       "# Example Usage Scenario\n",
       "\n",
       "class Book:\n",
       "    def __init__(self, title, author):\n",
       "        self['title'] = title\n",
       "        self['author'] = author  # Note that using class attr directly for assignment won't work as intended\n",
       "\n",
       "books = [\n",
       "   {\"title\": \"Harry Potter and the Philosopher's Stone\", \"author\": \"J.K. Rowling\"},\n",
       "   {\"title\": \"To Kill a Mockingbird\"},\n",
       "   {\n",
       "       \"title\": \"1984\", \"author\": \"\";\n",
       "       # No author in next book\n",
       "   },\n",
       "]\n",
       "\n",
       "# The part you're referring to\n",
       "result = {book['author'] for book in books if book.get('author')}\n",
       "\n",
       "print(result)\n",
       "\n",
       "\n",
       "However, the above snippet can be simplified slightly by leveraging the dictionary comprehension's ability directly within your for loop: \n",
       "python\n",
       "# Note how it uses a simple generator expression instead of complex usage around `dict()`\n",
       "result = dict((book['author'], None) for book in books if book.get('author'))\n",
       "\n",
       "\n",
       "Lastly, note this is based on handling dictionaries in list and set comprehensions with certain conditions or additional code blocks within them."
      ],
      "text/plain": [
       "<IPython.core.display.Markdown object>"
      ]
     },
     "metadata": {},
     "output_type": "display_data"
    }
   ],
   "source": [
    "# Get Llama 3.1 to answer\n",
    "stream = ollama_via_openai.chat.completions.create(\n",
    "    model = MODEL_LLAMA,\n",
    "    messages = [\n",
    "        {\"role\": \"system\", \"content\": system_prompt},\n",
    "        {\"role\": \"user\", \"content\": user_prompt}\n",
    "    ],\n",
    "    stream = True\n",
    ")\n",
    "response = \"\"\n",
    "display_handle = display(Markdown(\"\"), display_id=True)\n",
    "for chunk in stream:\n",
    "    response += chunk.choices[0].delta.content or ''\n",
    "    response = response.replace(\"```\",\"\").replace(\"markdown\", \"\")\n",
    "    update_display(Markdown(response), display_id=display_handle.display_id)"
   ]
  },
  {
   "cell_type": "code",
   "execution_count": null,
   "id": "9fd43abd-ef52-421e-83fc-0a36ed5c94c5",
   "metadata": {},
   "outputs": [],
   "source": []
  }
 ],
 "metadata": {
  "kernelspec": {
   "display_name": "Python 3 (ipykernel)",
   "language": "python",
   "name": "python3"
  },
  "language_info": {
   "codemirror_mode": {
    "name": "ipython",
    "version": 3
   },
   "file_extension": ".py",
   "mimetype": "text/x-python",
   "name": "python",
   "nbconvert_exporter": "python",
   "pygments_lexer": "ipython3",
   "version": "3.11.11"
  }
 },
 "nbformat": 4,
 "nbformat_minor": 5
}
